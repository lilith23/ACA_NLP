{
 "cells": [
  {
   "cell_type": "code",
   "execution_count": 1,
   "metadata": {},
   "outputs": [],
   "source": [
    "import nltk\n",
    "import numpy as np\n",
    "import pandas as pd\n",
    "import pickle\n",
    "\n",
    "from sklearn.model_selection import train_test_split\n",
    "from sklearn.metrics import classification_report, roc_auc_score\n",
    "from sklearn.svm import LinearSVC\n",
    "from gensim.models import KeyedVectors\n",
    "from tqdm import tqdm"
   ]
  },
  {
   "cell_type": "code",
   "execution_count": null,
   "metadata": {},
   "outputs": [],
   "source": []
  },
  {
   "cell_type": "code",
   "execution_count": 2,
   "metadata": {},
   "outputs": [],
   "source": [
    "sentiment_data = pd.read_csv(\"/home/igel/Downloads/train.csv\")"
   ]
  },
  {
   "cell_type": "code",
   "execution_count": 4,
   "metadata": {},
   "outputs": [],
   "source": [
    "all_texts = sentiment_data['message']"
   ]
  },
  {
   "cell_type": "code",
   "execution_count": 7,
   "metadata": {},
   "outputs": [],
   "source": [
    "all_texts_joint = ' '.join(all_texts)"
   ]
  },
  {
   "cell_type": "code",
   "execution_count": 10,
   "metadata": {},
   "outputs": [
    {
     "data": {
      "text/plain": [
       "'<'"
      ]
     },
     "execution_count": 10,
     "metadata": {},
     "output_type": "execute_result"
    }
   ],
   "source": [
    "all_texts_joint[0]"
   ]
  },
  {
   "cell_type": "code",
   "execution_count": 8,
   "metadata": {},
   "outputs": [],
   "source": [
    "tokens =  nltk.RegexpTokenizer('\\w+').tokenize(all_texts_joint)"
   ]
  },
  {
   "cell_type": "code",
   "execution_count": 9,
   "metadata": {},
   "outputs": [
    {
     "name": "stdout",
     "output_type": "stream",
     "text": [
      "done\n"
     ]
    }
   ],
   "source": [
    "assert isinstance(tokens, list)\n",
    "assert isinstance(tokens[0], str)\n",
    "print('done')"
   ]
  },
  {
   "cell_type": "code",
   "execution_count": 11,
   "metadata": {},
   "outputs": [
    {
     "data": {
      "text/plain": [
       "'USER_0'"
      ]
     },
     "execution_count": 11,
     "metadata": {},
     "output_type": "execute_result"
    }
   ],
   "source": [
    "tokens[0]"
   ]
  },
  {
   "cell_type": "code",
   "execution_count": null,
   "metadata": {},
   "outputs": [],
   "source": []
  },
  {
   "cell_type": "markdown",
   "metadata": {},
   "source": [
    "##### Build a dictionary {token: token_id} of 50000 most frequent tokens."
   ]
  },
  {
   "cell_type": "code",
   "execution_count": 16,
   "metadata": {},
   "outputs": [],
   "source": [
    "vocabulary_size = 50000\n",
    "import collections\n",
    "def build_vocabulary(tokens, max_size=20000):\n",
    "    \"\"\"\n",
    "    Builds a vocabulary of at most max_size words from the supplied list of lists of tokens.\n",
    "    If a word embedding model is provided, adds only the words present in the model vocabulary.\n",
    "    \"\"\"\n",
    "    # your code goes here\n",
    "    vocabulary = {}\n",
    "    reserved_symbols = [\"NULL\", \"UNKN\"]\n",
    "    \n",
    "    counter = collections.Counter(tokens)\n",
    "    \n",
    "    freq_toks = counter.most_common(max_size-len(reserved_symbols))\n",
    "\n",
    "    voc_words = [k[0] for k in freq_toks]\n",
    "\n",
    "    for i, reserved in enumerate(reserved_symbols):\n",
    "        vocabulary[reserved] = i\n",
    "\n",
    "    for i, k in enumerate(voc_words):\n",
    "        vocabulary[k] = i+len(reserved_symbols)\n",
    "\n",
    "    return vocabulary"
   ]
  },
  {
   "cell_type": "code",
   "execution_count": 17,
   "metadata": {},
   "outputs": [],
   "source": [
    "dictionary = build_vocabulary(tokens, vocabulary_size)"
   ]
  },
  {
   "cell_type": "code",
   "execution_count": 18,
   "metadata": {},
   "outputs": [],
   "source": [
    "reverse_dictionary = {val: keey for keey, val in dictionary.items()}"
   ]
  },
  {
   "cell_type": "code",
   "execution_count": 19,
   "metadata": {},
   "outputs": [],
   "source": [
    "def encode(tokens, token_to_id):\n",
    "    return [token_to_id.get(t, token_to_id['UNKN']) for t in tokens]"
   ]
  },
  {
   "cell_type": "code",
   "execution_count": 20,
   "metadata": {},
   "outputs": [],
   "source": [
    "### pickle"
   ]
  },
  {
   "cell_type": "code",
   "execution_count": 21,
   "metadata": {},
   "outputs": [],
   "source": [
    "data = encode(tokens, dictionary)"
   ]
  },
  {
   "cell_type": "code",
   "execution_count": 28,
   "metadata": {},
   "outputs": [
    {
     "data": {
      "text/plain": [
       "'one'"
      ]
     },
     "execution_count": 28,
     "metadata": {},
     "output_type": "execute_result"
    }
   ],
   "source": [
    "dictionary['one']\n",
    "reverse_dictionary[56]"
   ]
  },
  {
   "cell_type": "code",
   "execution_count": 31,
   "metadata": {},
   "outputs": [
    {
     "name": "stdout",
     "output_type": "stream",
     "text": [
      "data: ['USER_0', 'Unfortunately', 'it', 's', 'the', 'world', 'They', 'actually']\n",
      "\n",
      "with num_skips = 2 and skip_window = 1:\n",
      "    batch: ['Unfortunately', 'Unfortunately', 'it', 'it', 's', 's', 'the', 'the']\n",
      "    labels: ['it', 'USER_0', 's', 'Unfortunately', 'it', 'the', 'world', 's']\n"
     ]
    }
   ],
   "source": [
    "data_index = 0\n",
    "import random\n",
    "def generate_batch(batch_size, num_skips, skip_window):\n",
    "    global data_index\n",
    "    assert batch_size % num_skips == 0\n",
    "    assert num_skips <= 2 * skip_window\n",
    "    batch = np.ndarray(shape=(batch_size), dtype=np.int32)\n",
    "    labels = np.ndarray(shape=(batch_size, 1), dtype=np.int32)\n",
    "    span = 2 * skip_window + 1 # [ skip_window target skip_window ]\n",
    "    # Initilzing a buffer to sample from\n",
    "    buffer = collections.deque(maxlen=span)\n",
    "    for _ in range(span):\n",
    "        buffer.append(data[data_index])\n",
    "        data_index = (data_index + 1) % len(data)\n",
    "    # Moving over the the corpus to the next buffer while we get a whole batch\n",
    "    for i in range(batch_size // num_skips):\n",
    "        target = skip_window  # set target somewehre, then find the right ones\n",
    "        targets_to_avoid = [ skip_window ]  #don't use the center word as a target\n",
    "        for j in range(num_skips):\n",
    "            while target in targets_to_avoid:\n",
    "                target = random.randint(0, span - 1)\n",
    "            targets_to_avoid.append(target)\n",
    "            batch[i * num_skips + j] = buffer[skip_window]\n",
    "            labels[i * num_skips + j, 0] = buffer[target]\n",
    "        buffer.append(data[data_index])\n",
    "        data_index = (data_index + 1) % len(data)\n",
    "    return batch, labels\n",
    "\n",
    "print('data:', [reverse_dictionary[di] for di in data[:8]])\n",
    "# Let's test how this works\n",
    "for num_skips, skip_window in [(2, 1)]:\n",
    "    data_index = 0\n",
    "    batch, labels = generate_batch(batch_size=8, num_skips=num_skips, skip_window=skip_window)\n",
    "    print('\\nwith num_skips = %d and skip_window = %d:' % (num_skips, skip_window))\n",
    "    print('    batch:', [reverse_dictionary[bi] for bi in batch])\n",
    "    print('    labels:', [reverse_dictionary[li] for li in labels.reshape(8)])"
   ]
  },
  {
   "cell_type": "code",
   "execution_count": 36,
   "metadata": {},
   "outputs": [
    {
     "name": "stdout",
     "output_type": "stream",
     "text": [
      "WARNING:tensorflow:From /home/igel/.local/lib/python3.5/site-packages/tensorflow/python/ops/nn_impl.py:1344: softmax_cross_entropy_with_logits (from tensorflow.python.ops.nn_ops) is deprecated and will be removed in a future version.\n",
      "Instructions for updating:\n",
      "\n",
      "Future major versions of TensorFlow will allow gradients to flow\n",
      "into the labels input on backprop by default.\n",
      "\n",
      "See @{tf.nn.softmax_cross_entropy_with_logits_v2}.\n",
      "\n",
      "WARNING:tensorflow:From <ipython-input-36-01db353f84e2>:50: calling reduce_sum (from tensorflow.python.ops.math_ops) with keep_dims is deprecated and will be removed in a future version.\n",
      "Instructions for updating:\n",
      "keep_dims is deprecated, use keepdims instead\n"
     ]
    }
   ],
   "source": [
    "import tensorflow as tf\n",
    "import math\n",
    "batch_size = 128\n",
    "embedding_size = 128 # Dimension of the embedding vector.\n",
    "skip_window = 1 # How many words to consider left and right.\n",
    "num_skips = 2 # How many times to reuse an input to generate a label.\n",
    "# We pick a random validation set to sample nearest neighbors. here we limit the\n",
    "# validation samples to the words that have a low numeric ID, which by\n",
    "# construction are also the most frequent. \n",
    "valid_size = 16 # Random set of words to evaluate similarity on.\n",
    "valid_window = 100 # Only pick dev samples in the head of the distribution.\n",
    "valid_examples = np.array(random.sample(range(valid_window), valid_size))\n",
    "num_sampled = 64 # Number of negative examples to sample.\n",
    "\n",
    "graph = tf.Graph()\n",
    "\n",
    "with graph.as_default(), tf.device('/cpu:0'):\n",
    "\n",
    "    # Input data.\n",
    "    train_dataset = tf.placeholder(tf.int32, shape=[batch_size])\n",
    "    train_labels = tf.placeholder(tf.int32, shape=[batch_size, 1])\n",
    "    valid_dataset = tf.constant(valid_examples, dtype=tf.int32)\n",
    "  \n",
    "    # Variables.\n",
    "    embeddings = tf.Variable(\n",
    "        tf.random_uniform([vocabulary_size, embedding_size], -1.0, 1.0))\n",
    "    softmax_weights = tf.Variable(\n",
    "        tf.truncated_normal([vocabulary_size, embedding_size],\n",
    "                            stddev=1.0 / math.sqrt(embedding_size)))\n",
    "    softmax_biases = tf.Variable(tf.zeros([vocabulary_size]))\n",
    "  \n",
    "    # Model.\n",
    "    # Look up embeddings for inputs.\n",
    "    embed = tf.nn.embedding_lookup(embeddings, train_dataset)\n",
    "    # Compute the softmax loss, using a sample of the negative labels each time.\n",
    "    loss = tf.reduce_mean(\n",
    "        tf.nn.sampled_softmax_loss(weights=softmax_weights, biases=softmax_biases, inputs=embed,\n",
    "                                   labels=train_labels, num_sampled=num_sampled, num_classes=vocabulary_size))\n",
    "\n",
    "    # Optimizer.\n",
    "    # Note: The optimizer will optimize the softmax_weights AND the embeddings.\n",
    "    # This is because the embeddings are defined as a variable quantity and the\n",
    "    # optimizer's `minimize` method will by default modify all variable quantities \n",
    "    # that contribute to the tensor it is passed.\n",
    "    # See docs on `tf.train.Optimizer.minimize()` for more details.\n",
    "    optimizer = tf.train.AdagradOptimizer(1.0).minimize(loss)\n",
    "  \n",
    "    # Compute the similarity between minibatch examples and all embeddings.\n",
    "    # We use the cosine distance:\n",
    "    norm = tf.sqrt(tf.reduce_sum(tf.square(embeddings), 1, keep_dims=True))\n",
    "    normalized_embeddings = embeddings / norm\n",
    "    valid_embeddings = tf.nn.embedding_lookup(normalized_embeddings, valid_dataset)\n",
    "    similarity = tf.matmul(valid_embeddings, tf.transpose(normalized_embeddings))"
   ]
  },
  {
   "cell_type": "code",
   "execution_count": 41,
   "metadata": {},
   "outputs": [
    {
     "data": {
      "text/plain": [
       "270565"
      ]
     },
     "execution_count": 41,
     "metadata": {},
     "output_type": "execute_result"
    }
   ],
   "source": [
    "len(data)  / (batch_size/ num_skips)\n",
    "num_steps = int(len(data)  / (batch_size/ num_skips))\n",
    "num_steps"
   ]
  },
  {
   "cell_type": "code",
   "execution_count": 49,
   "metadata": {
    "scrolled": false
   },
   "outputs": [
    {
     "name": "stdout",
     "output_type": "stream",
     "text": [
      "Initialized\n",
      "Average loss at step 0: 8.333422\n"
     ]
    },
    {
     "data": {
      "image/png": "[encoded data removed]",
      "text/plain": [
       "<Figure size 1008x720 with 1 Axes>"
      ]
     },
     "metadata": {},
     "output_type": "display_data"
    },
    {
     "name": "stdout",
     "output_type": "stream",
     "text": [
      "Nearest to I: Rashard, Raid, ermm, DRY, Presets, WEN, Patty, Vineyard,\n",
      "Nearest to really: suspect, 3500, Jailbreak, babyyy, cuter, graduating, sprint, excedrin,\n",
      "Nearest to out: mcflurry, Anonymous, Donï, heathers, Olivia, Yummmm, acknowledging, shittttt,\n",
      "Nearest to an: erasing, Supreme, compound, ia, tripple, startd, Next, particular,\n",
      "Nearest to work: risotto, NASA, downloadin, upstate, ventures, proofread, opps, worrk,\n",
      "Nearest to love: catchy, gradually, RAINY, Tangerine, ng, 63, Cept, splinter,\n",
      "Nearest to have: counterpart, shipping, courtney, Literature, TMNT, het, Ð¾, rlly,\n",
      "Nearest to 2: PCI, moved, Spiders, revisin, Isaiah, pao, Goldie, ÑƒÑ,\n",
      "Nearest to if: taxed, manufacturing, Rock, predictions, PLEASEEEEEEEE, 99p, OMGGGG, harper,\n",
      "Nearest to me: pickups, Minds, independent, decluttering, El, DON, concerts, fellow,\n",
      "Nearest to from: network, rythm, Rough, vhs, code, recipe, Record, Sera,\n",
      "Nearest to URL_0: MOVING, HAM, Kmart, mugging, Twidroid, GK, hectic, inggit,\n",
      "Nearest to its: relates, norway, Rewind, runs, Isaac, Seems, tuesdays, Semi,\n",
      "Nearest to there: mater, yaself, MSDN, Robot, summin, designers, 1up, robbins,\n",
      "Nearest to much: bootie, private, iTouch, Melissa, crawfish, delete, fann, sakit,\n",
      "Nearest to home: Communications, Certificate, luved, explosions, 7PM, howdy, Fraser, within,\n",
      "Average loss at step 2000: 4.607912\n"
     ]
    },
    {
     "data": {
      "image/png": "[encoded data removed]",
      "text/plain": [
       "<Figure size 1008x720 with 1 Axes>"
      ]
     },
     "metadata": {},
     "output_type": "display_data"
    },
    {
     "name": "stdout",
     "output_type": "stream",
     "text": [
      "Nearest to I: i, it, you, USER_0, lol, we, Im, he,\n",
      "Nearest to really: suspect, babyyy, excedrin, shooot, Coronas, Fuuuck, lugging, he,\n",
      "Nearest to out: heathers, Anonymous, absinthe, mcflurry, twitterland, welly, Do, Yummmm,\n",
      "Nearest to an: circa, ia, Dragon, NAMED, compound, Supreme, n0, Matthew,\n",
      "Nearest to work: risotto, NASA, attractions, Ahem, stormin, sg, killer, infections,\n",
      "Nearest to love: gradually, catchy, 44am, pritty, splinter, RAINY, lucid, SHS,\n",
      "Nearest to have: personally, altough, farah, Trader, counterpart, determines, fades, help,\n",
      "Nearest to 2: ÑƒÑ, revisin, moved, PCI, Aloe, HTTP, Blackburn, byeee,\n",
      "Nearest to if: PLEASEEEEEEEE, extract, Rowling, taxed, Owner, palace, predictions, manufacturing,\n",
      "Nearest to me: tuesday, pickups, decluttering, you, butler, Rooting, my, States,\n",
      "Nearest to from: vhs, nooooooooooo, network, eyelids, rythm, aspirations, Record, studyin,\n",
      "Nearest to URL_0: MOVING, Floral, mugging, week, watchers, tov, Twidroid, togetherness,\n",
      "Nearest to its: douches, tuesdays, Rewind, Isaac, Protein, reloading, lemongrass, xxxxxxxxxxxxxxx,\n",
      "Nearest to there: mater, Hedge, morphine, MSDN, Markets, bmore, remedies, Robot,\n",
      "Nearest to much: Melissa, bootie, TaShA, hurling, 66, iTouch, often, Jumping,\n",
      "Nearest to home: Certificate, your, ack, ava, howdy, Blazer, Communications, bankrupt,\n",
      "Average loss at step 4000: 3.984696\n"
     ]
    },
    {
     "data": {
      "image/png": "[encoded data removed]",
      "text/plain": [
       "<Figure size 1008x720 with 1 Axes>"
      ]
     },
     "metadata": {},
     "output_type": "display_data"
    },
    {
     "name": "stdout",
     "output_type": "stream",
     "text": [
      "Nearest to I: i, you, we, they, HM, u, overseas, tutorials,\n",
      "Nearest to really: suspect, Fuuuck, so, babyyy, actually, Coronas, ceral, he,\n",
      "Nearest to out: mcflurry, Anonymous, twitterland, welly, Do, heathers, back, absinthe,\n",
      "Nearest to an: circa, Dragon, NAMED, Supreme, a, n0, Next, Matthew,\n",
      "Nearest to work: risotto, NASA, Ahem, infections, Survived, snows, joints, sg,\n",
      "Nearest to love: catchy, gradually, 44am, RAINY, splinter, Shades, SHS, pritty,\n",
      "Nearest to have: personally, altough, need, had, ve, get, Trader, be,\n",
      "Nearest to 2: to, Aloe, HTTP, ÑƒÑ, moved, revisin, Blackburn, his,\n",
      "Nearest to if: PLEASEEEEEEEE, extract, palace, Rowling, Owner, taxed, Barbeque, unpack,\n",
      "Nearest to me: you, Rooting, Install, pickups, decluttering, illiterate, butler, tuesday,\n",
      "Nearest to from: in, vhs, aspirations, at, nooooooooooo, to, calc, and,\n",
      "Nearest to URL_0: UNKN, week, thanks, MOVING, today, watchers, Floral, later,\n",
      "Nearest to its: lemongrass, is, im, Rewind, reloading, tuesdays, douches, NorCal,\n",
      "Nearest to there: mater, it, Hedge, plans, bmore, MSDN, remedies, Unfortunate,\n",
      "Nearest to much: Melissa, cooks, often, Jumping, TaShA, hurling, Beatport, fann,\n",
      "Nearest to home: Certificate, howdy, bankrupt, ack, ava, rescheduling, Toad, Vienna,\n",
      "Average loss at step 6000: 3.840193\n"
     ]
    },
    {
     "data": {
      "image/png": "[encoded data removed]",
      "text/plain": [
       "<Figure size 1008x720 with 1 Axes>"
      ]
     },
     "metadata": {},
     "output_type": "display_data"
    },
    {
     "name": "stdout",
     "output_type": "stream",
     "text": [
      "Nearest to I: i, we, they, HM, you, tutorials, You, he,\n",
      "Nearest to really: suspect, so, Fuuuck, actually, Ani, shooot, Cactus, Shred,\n",
      "Nearest to out: mcflurry, twitterland, heathers, Do, Anonymous, absinthe, back, runny,\n",
      "Nearest to an: circa, Dragon, Supreme, Next, pounds, NAMED, Matthew, hercules,\n",
      "Nearest to work: risotto, Survived, Ahem, NASA, snows, joints, doth, wtk,\n",
      "Nearest to love: frens, RAINY, pritty, catchy, miss, Shades, gradually, 44am,\n",
      "Nearest to have: ve, altough, had, need, personally, get, be, Sammy,\n",
      "Nearest to 2: to, Blackburn, HTTP, moved, Aloe, revisin, ÑƒÑ, Isaiah,\n",
      "Nearest to if: Rowling, palace, PLEASEEEEEEEE, Now, extract, Barbeque, Owner, Gimp,\n",
      "Nearest to me: you, illiterate, her, pickups, us, Install, 3G, it,\n",
      "Nearest to from: in, at, on, vhs, to, and, aspirations, hawthorne,\n",
      "Nearest to URL_0: week, today, thanks, later, UNKN, lol, Jai, watchers,\n",
      "Nearest to its: im, lemongrass, is, bricked, tuesdays, Rewind, douches, NorCal,\n",
      "Nearest to there: it, mater, Jee, negatives, Hedge, MSDN, depart, plans,\n",
      "Nearest to much: Melissa, cooks, hurling, often, Jumping, Beatport, fann, TaShA,\n",
      "Nearest to home: back, Certificate, ava, bankrupt, drain, grumble, ack, ARRIVED,\n",
      "Average loss at step 8000: 3.767292\n"
     ]
    },
    {
     "data": {
      "image/png": "[encoded data removed]",
      "text/plain": [
       "<Figure size 1008x720 with 1 Axes>"
      ]
     },
     "metadata": {},
     "output_type": "display_data"
    },
    {
     "name": "stdout",
     "output_type": "stream",
     "text": [
      "Nearest to I: i, we, they, You, you, HM, he, haha,\n",
      "Nearest to really: so, suspect, Fuuuck, actually, Shred, Cactus, shooot, pagi,\n",
      "Nearest to out: twitterland, mcflurry, up, heathers, Anonymous, welly, back, shittttt,\n",
      "Nearest to an: circa, Supreme, Dragon, Next, pounds, NAMED, trippin, platforms,\n",
      "Nearest to work: risotto, Survived, joints, school, home, applicants, snows, doth,\n",
      "Nearest to love: miss, 200th, pritty, frens, SENDING, hate, do, 44am,\n",
      "Nearest to have: ve, need, had, altough, get, personally, has, Thread,\n",
      "Nearest to 2: to, HTTP, ÑƒÑ, Blackburn, moved, Aloe, Isaiah, revisin,\n",
      "Nearest to if: palace, PLEASEEEEEEEE, Rowling, extract, Now, Gimp, notice, Barbeque,\n",
      "Nearest to me: us, you, him, it, her, illiterate, pickups, tuesday,\n",
      "Nearest to from: in, at, on, and, vhs, Plane, for, FriendFeed,\n",
      "Nearest to URL_0: today, lol, later, thanks, nurses, watchers, UNKN, gloucester,\n",
      "Nearest to its: im, lemongrass, is, Rewind, bricked, i, devotion, s,\n",
      "Nearest to there: mater, it, EXAM, plans, negatives, MSDN, Jee, JEALOUS,\n",
      "Nearest to much: cooks, often, Melissa, hurling, Jumping, fann, Ghana, Beatport,\n",
      "Nearest to home: back, work, drain, ava, bankrupt, Certificate, hath, grumble,\n",
      "Average loss at step 10000: 3.709732\n"
     ]
    },
    {
     "data": {
      "image/png": "[encoded data removed]",
      "text/plain": [
       "<Figure size 1008x720 with 1 Axes>"
      ]
     },
     "metadata": {},
     "output_type": "display_data"
    },
    {
     "name": "stdout",
     "output_type": "stream",
     "text": [
      "Nearest to I: i, we, they, you, You, HM, We, u,\n",
      "Nearest to really: so, Fuuuck, actually, suspect, just, always, tap, consisting,\n",
      "Nearest to out: twitterland, up, mcflurry, heathers, Thriller, back, geting, Laughing,\n",
      "Nearest to an: Supreme, circa, Dragon, Next, pounds, Serious, trippin, platforms,\n",
      "Nearest to work: Survived, school, risotto, joints, lunch, sleep, nothing, home,\n",
      "Nearest to love: miss, hate, do, pritty, Tilt, 44am, 200th, know,\n",
      "Nearest to have: ve, had, need, want, altough, get, be, has,\n",
      "Nearest to 2: to, HTTP, Blackburn, ÑƒÑ, Isaiah, Soaked, revisin, burped,\n",
      "Nearest to if: palace, Barbeque, Now, but, Rowling, extract, what, Gimp,\n",
      "Nearest to me: us, him, it, u, her, illiterate, you, tuesday,\n",
      "Nearest to from: in, at, and, with, for, on, FriendFeed, Plane,\n",
      "Nearest to URL_0: today, lol, UNKN, thanks, unpack, watchers, masquerade, doesnï,\n",
      "Nearest to its: im, is, s, i, lemongrass, bricked, Rum, devotion,\n",
      "Nearest to there: it, plans, Jee, mater, iChat, depart, JEALOUS, Sanford,\n",
      "Nearest to much: often, hurling, cooks, far, Melissa, Beatport, Ghana, Jumping,\n",
      "Nearest to home: back, work, Certificate, ava, bankrupt, drain, youngest, riches,\n"
     ]
    }
   ],
   "source": [
    "num_steps = 10001\n",
    "lh = []\n",
    "%matplotlib inline\n",
    "import matplotlib.pyplot as plt\n",
    "\n",
    "with tf.Session(graph=graph) as session:\n",
    "    tf.global_variables_initializer().run()\n",
    "    print('Initialized')\n",
    "    average_loss = 0\n",
    "    for step in range(num_steps):\n",
    "        batch_data, batch_labels = generate_batch(\n",
    "          batch_size, num_skips, skip_window)\n",
    "        feed_dict = {train_dataset : batch_data, train_labels : batch_labels}\n",
    "        _, l = session.run([optimizer, loss], feed_dict=feed_dict)\n",
    "        average_loss += l\n",
    "        if step % 2000 == 0:\n",
    "            if step > 0:\n",
    "                average_loss = average_loss / 2000\n",
    "            #display.clear_output(wait=True)\n",
    "            # The average loss is an estimate of the loss over the last 2000 batches.\n",
    "            print('Average loss at step %d: %f' % (step, average_loss))\n",
    "            lh.append(average_loss)\n",
    "            average_loss = 0\n",
    "\n",
    "            plt.figure(figsize=(14, 10))\n",
    "\n",
    "            plt.title(\"Training loss, step {}/{}\".format(step, num_steps))\n",
    "            plt.xlabel(\"#step\")\n",
    "            plt.ylabel(\"loss\")\n",
    "            plt.plot(lh, 'b')\n",
    "            plt.show()\n",
    "\n",
    "        if step % 2000 == 0:\n",
    "            sim = similarity.eval()\n",
    "            for i in range(valid_size):\n",
    "                valid_word = reverse_dictionary[valid_examples[i]]\n",
    "                top_k = 8 # number of nearest neighbors\n",
    "                nearest = (-sim[i, :]).argsort()[1:top_k+1]\n",
    "                log = 'Nearest to %s:' % valid_word\n",
    "                for k in range(top_k):\n",
    "                    close_word = reverse_dictionary[nearest[k]]\n",
    "                    log = '%s %s,' % (log, close_word)\n",
    "                print(log)\n",
    "    final_embeddings = normalized_embeddings.eval()"
   ]
  },
  {
   "cell_type": "code",
   "execution_count": 52,
   "metadata": {},
   "outputs": [
    {
     "ename": "FileNotFoundError",
     "evalue": "[Errno 2] No such file or directory: 'topical_words.json'",
     "output_type": "error",
     "traceback": [
      "\u001b[0;31m---------------------------------------------------------------------------\u001b[0m",
      "\u001b[0;31mFileNotFoundError\u001b[0m                         Traceback (most recent call last)",
      "\u001b[0;32m<ipython-input-52-d6307f3069c6>\u001b[0m in \u001b[0;36m<module>\u001b[0;34m()\u001b[0m\n\u001b[1;32m      2\u001b[0m \u001b[0;34m\u001b[0m\u001b[0m\n\u001b[1;32m      3\u001b[0m \u001b[0;32mfrom\u001b[0m \u001b[0msklearn\u001b[0m\u001b[0;34m.\u001b[0m\u001b[0mmanifold\u001b[0m \u001b[0;32mimport\u001b[0m \u001b[0mTSNE\u001b[0m\u001b[0;34m\u001b[0m\u001b[0m\n\u001b[0;32m----> 4\u001b[0;31m \u001b[0mdd\u001b[0m \u001b[0;34m=\u001b[0m \u001b[0mjson\u001b[0m\u001b[0;34m.\u001b[0m\u001b[0mload\u001b[0m\u001b[0;34m(\u001b[0m\u001b[0mopen\u001b[0m\u001b[0;34m(\u001b[0m\u001b[0;34m'topical_words.json'\u001b[0m\u001b[0;34m)\u001b[0m\u001b[0;34m)\u001b[0m\u001b[0;34m\u001b[0m\u001b[0m\n\u001b[0m\u001b[1;32m      5\u001b[0m \u001b[0mcolors\u001b[0m \u001b[0;34m=\u001b[0m \u001b[0;34m{\u001b[0m\u001b[0;34m'colors'\u001b[0m\u001b[0;34m:\u001b[0m\u001b[0;34m'r'\u001b[0m\u001b[0;34m,\u001b[0m \u001b[0;34m'vegetables'\u001b[0m\u001b[0;34m:\u001b[0m\u001b[0;34m'g'\u001b[0m\u001b[0;34m,\u001b[0m \u001b[0;34m'numbers'\u001b[0m\u001b[0;34m:\u001b[0m\u001b[0;34m'b'\u001b[0m\u001b[0;34m,\u001b[0m \u001b[0;34m'professions'\u001b[0m\u001b[0;34m:\u001b[0m \u001b[0;34m'GoldenRod'\u001b[0m\u001b[0;34m}\u001b[0m\u001b[0;34m\u001b[0m\u001b[0m\n\u001b[1;32m      6\u001b[0m \u001b[0mwd\u001b[0m \u001b[0;34m=\u001b[0m \u001b[0;34m{\u001b[0m\u001b[0;34m}\u001b[0m\u001b[0;34m\u001b[0m\u001b[0m\n",
      "\u001b[0;31mFileNotFoundError\u001b[0m: [Errno 2] No such file or directory: 'topical_words.json'"
     ]
    }
   ],
   "source": [
    "import json\n",
    "\n",
    "from sklearn.manifold import TSNE\n",
    "dd = json.load(open('topical_words.json'))\n",
    "colors = {'colors':'r', 'vegetables':'g', 'numbers':'b', 'professions': 'GoldenRod'}\n",
    "wd = {}\n",
    "for k in dd:\n",
    "    for w in dd[k]:\n",
    "        if w in dictionary:\n",
    "            wd[w] = {'emb': final_embeddings[dictionary[w]], 'label': k, 'color': colors[k]}\n",
    "            \n",
    "M = np.array([wd[k]['emb'] for k in wd])\n",
    "labels = [wd[k]['label'] for k in wd]\n",
    "colors = [wd[k]['color'] for k in wd]\n",
    "\n",
    "P = squareform(pdist(M, metric='cosine'))\n",
    "tsne2 = TSNE(n_components=2, random_state=34, metric='precomputed', n_iter=9001)\n",
    "Y = tsne2.fit_transform(P)"
   ]
  },
  {
   "cell_type": "markdown",
   "metadata": {},
   "source": [
    "## Exercise 3: word vectors meet bag of words"
   ]
  },
  {
   "cell_type": "code",
   "execution_count": null,
   "metadata": {},
   "outputs": [],
   "source": []
  },
  {
   "cell_type": "code",
   "execution_count": null,
   "metadata": {},
   "outputs": [],
   "source": []
  },
  {
   "cell_type": "markdown",
   "metadata": {},
   "source": [
    "In this exercise you use your newly trained word vectors and a simple Bag of Words models to approach the sentiment analysis task"
   ]
  },
  {
   "cell_type": "code",
   "execution_count": null,
   "metadata": {
    "collapsed": true
   },
   "outputs": [],
   "source": [
    "# We will use a convinient wrapper for our word2vec model provided by gensim"
   ]
  },
  {
   "cell_type": "code",
   "execution_count": null,
   "metadata": {
    "collapsed": true
   },
   "outputs": [],
   "source": [
    "w2v_model = KeyedVectors.load_word2vec_format(\"./simple_cbow.w2v\")"
   ]
  },
  {
   "cell_type": "code",
   "execution_count": null,
   "metadata": {
    "collapsed": true
   },
   "outputs": [],
   "source": [
    "# you can get the vector for a word in a simple way\n",
    "w2v_model['word']"
   ]
  },
  {
   "cell_type": "code",
   "execution_count": null,
   "metadata": {
    "collapsed": true
   },
   "outputs": [],
   "source": [
    "# you can easily query the model for word most similar to a give word \n",
    "w2v_model.most_similar('funny')"
   ]
  },
  {
   "cell_type": "code",
   "execution_count": null,
   "metadata": {
    "collapsed": true
   },
   "outputs": [],
   "source": []
  },
  {
   "cell_type": "markdown",
   "metadata": {},
   "source": [
    "### 3.1"
   ]
  },
  {
   "cell_type": "markdown",
   "metadata": {},
   "source": [
    "In this exercise you learn how to encode sentences with word2vec using a bag of words approach"
   ]
  },
  {
   "cell_type": "code",
   "execution_count": null,
   "metadata": {
    "collapsed": true
   },
   "outputs": [],
   "source": [
    "# implement a tokenizer that you will use throughout the exercise\n",
    "# I would recommend a regexp tokenizer for speed, but it's completely up to you\n",
    "def my_tokenizer(text):\n",
    "    return nltk.regexp_tokenize(text, '\\w+')"
   ]
  },
  {
   "cell_type": "code",
   "execution_count": null,
   "metadata": {
    "collapsed": true
   },
   "outputs": [],
   "source": []
  },
  {
   "cell_type": "code",
   "execution_count": null,
   "metadata": {
    "collapsed": true
   },
   "outputs": [],
   "source": [
    "def bow_encoder(wmodel, tokenizer, text):\n",
    "    \"\"\"\n",
    "    This function encodes text into a vector.\n",
    "    \n",
    "    First, it tokenizes input text using the provided tokenizer function.\n",
    "    Then it uses the provided word2vec model to get the vectors corresponding to text's tokens.\n",
    "    Finally, it computes an average of all token's vectors and returns it.\n",
    "    \n",
    "    If the function failed to find and encode any words, it should at least return a vector of zeros.\n",
    "    \"\"\"\n",
    "    zero_vector = np.zeros(w2v_model.vector_size)\n",
    "    # your code goes here\n",
    "    return sent_vector"
   ]
  },
  {
   "cell_type": "markdown",
   "metadata": {},
   "source": [
    "Now use your new encoder to encode both train_texts and test_texts into matrices.\n",
    "\n",
    "The number of rows in a matrix should be equal to the number of texts encoded.\n",
    "\n",
    "The number of columns should be equal to the word2vec space dimansionality (currently = 128)\n",
    "\n",
    "Just write a little loop."
   ]
  },
  {
   "cell_type": "code",
   "execution_count": null,
   "metadata": {
    "collapsed": true,
    "scrolled": true
   },
   "outputs": [],
   "source": [
    "train_encoded = \n",
    "test_encoded = "
   ]
  },
  {
   "cell_type": "code",
   "execution_count": null,
   "metadata": {
    "collapsed": true
   },
   "outputs": [],
   "source": [
    "assert isinstance(train_encoded, np.ndarray)\n",
    "assert isinstance(test_encoded, np.ndarray)\n",
    "\n",
    "assert train_encoded.shape[0] == len(train_texts)\n",
    "assert train_encoded.shape[1] == w2v_model.vector_size\n",
    "\n",
    "assert test_encoded.shape[0] == len(test_texts)\n",
    "assert test_encoded.shape[1] == w2v_model.vector_size\n",
    "print('done')"
   ]
  },
  {
   "cell_type": "code",
   "execution_count": null,
   "metadata": {
    "collapsed": true
   },
   "outputs": [],
   "source": []
  },
  {
   "cell_type": "code",
   "execution_count": null,
   "metadata": {
    "collapsed": true
   },
   "outputs": [],
   "source": [
    "clf = LinearSVC()\n",
    "clf.fit(train_encoded, train_labels)\n",
    "preds = clf.predict(test_encoded)\n",
    "\n",
    "print(classification_report(test_labels, preds))\n",
    "print(\"AUC = {}\".format(roc_auc_score(test_labels, preds)))"
   ]
  },
  {
   "cell_type": "markdown",
   "metadata": {},
   "source": [
    "### Not too impressive!"
   ]
  },
  {
   "cell_type": "markdown",
   "metadata": {},
   "source": [
    "### 3.2"
   ]
  },
  {
   "cell_type": "markdown",
   "metadata": {},
   "source": [
    "In this exercise you attempt to improve your encoder by filtering out stop words."
   ]
  },
  {
   "cell_type": "code",
   "execution_count": null,
   "metadata": {
    "collapsed": true
   },
   "outputs": [],
   "source": [
    "def bow_encoder_with_stopwords(wmodel, tokenizer, stopwords, text):\n",
    "    \"\"\"\n",
    "    This function encodes text into a vector.\n",
    "    \n",
    "    First, it tokenizes input text using the provided tokenizer function.\n",
    "    Then it removes any stopwords from the list of tokens.\n",
    "    Then it uses the provided word2vec model to get the vectors corresponding to text's tokens.\n",
    "    Finally, it computes an average of all token's vectors and returns it.\n",
    "    \n",
    "    If the function failed to find and encode any words, it should at least return a vector of zeros.\n",
    "    \"\"\"\n",
    "    zero_vector = np.zeros(w2v_model.vector_size)\n",
    "    # your code goes here\n",
    "    return sent_vector"
   ]
  },
  {
   "cell_type": "code",
   "execution_count": null,
   "metadata": {
    "collapsed": true
   },
   "outputs": [],
   "source": [
    "stops = set(nltk.corpus.stopwords.words('english'))"
   ]
  },
  {
   "cell_type": "code",
   "execution_count": null,
   "metadata": {
    "collapsed": true
   },
   "outputs": [],
   "source": []
  },
  {
   "cell_type": "code",
   "execution_count": null,
   "metadata": {
    "collapsed": true
   },
   "outputs": [],
   "source": [
    "train_encoded = \n",
    "test_encoded = "
   ]
  },
  {
   "cell_type": "code",
   "execution_count": null,
   "metadata": {
    "collapsed": true
   },
   "outputs": [],
   "source": []
  },
  {
   "cell_type": "code",
   "execution_count": null,
   "metadata": {
    "collapsed": true
   },
   "outputs": [],
   "source": [
    "clf = LinearSVC()\n",
    "clf.fit(train_encoded, train_labels)\n",
    "preds = clf.predict(test_encoded)\n",
    "\n",
    "print(classification_report(test_labels, preds))\n",
    "print(\"AUC = {}\".format(roc_auc_score(test_labels, preds)))"
   ]
  },
  {
   "cell_type": "code",
   "execution_count": null,
   "metadata": {
    "collapsed": true
   },
   "outputs": [],
   "source": []
  },
  {
   "cell_type": "code",
   "execution_count": null,
   "metadata": {
    "collapsed": true
   },
   "outputs": [],
   "source": []
  },
  {
   "cell_type": "markdown",
   "metadata": {},
   "source": [
    "## Looks like the BoW model is not too good for the job!"
   ]
  },
  {
   "cell_type": "markdown",
   "metadata": {},
   "source": [
    "![architecture](pics/we_need_to_go_deeper.jpg)"
   ]
  },
  {
   "cell_type": "code",
   "execution_count": null,
   "metadata": {
    "collapsed": true,
    "scrolled": true
   },
   "outputs": [],
   "source": []
  },
  {
   "cell_type": "markdown",
   "metadata": {},
   "source": [
    "## Introducing: Keras"
   ]
  },
  {
   "cell_type": "markdown",
   "metadata": {},
   "source": [
    "Keras is a cool library built on top of the computational backend provided by Tensorflow. It provides a layer of abstraction between you and complicated tensor algebra, allowing for rapid prototyping of deep neural networks."
   ]
  },
  {
   "cell_type": "markdown",
   "metadata": {
    "collapsed": true
   },
   "source": [
    "### 3.3: Data preparation"
   ]
  },
  {
   "cell_type": "markdown",
   "metadata": {},
   "source": [
    "Before we start crunching word vectors with convolutional neural networks, we need to prepare our data."
   ]
  },
  {
   "cell_type": "code",
   "execution_count": null,
   "metadata": {
    "collapsed": true
   },
   "outputs": [],
   "source": [
    "import keras"
   ]
  },
  {
   "cell_type": "code",
   "execution_count": null,
   "metadata": {
    "collapsed": true
   },
   "outputs": [],
   "source": [
    "# load the vocabulary we created earlier\n",
    "voc, rvoc = pickle.load(open(\"./dict_rdict.pkl\",\"rb\"))"
   ]
  },
  {
   "cell_type": "code",
   "execution_count": null,
   "metadata": {
    "collapsed": true
   },
   "outputs": [],
   "source": [
    "# we are going to use the whole dataset this time around\n",
    "texts = sentiment_data['message'].tolist()\n",
    "labels = np.array(sentiment_data['sentiment'])\n",
    "\n",
    "train_texts, test_texts, train_labels, test_labels = train_test_split(texts, labels, random_state=21)"
   ]
  },
  {
   "cell_type": "markdown",
   "metadata": {},
   "source": [
    "Recall the function that turns tokens into their ids"
   ]
  },
  {
   "cell_type": "code",
   "execution_count": null,
   "metadata": {
    "collapsed": true
   },
   "outputs": [],
   "source": [
    "# hint: you may want to use the function you've built during seminar 2\n",
    "MAX_LEN = 32\n",
    "\n",
    "def vectorize_tokens(sentence, tokenizer, token_to_id, max_len):\n",
    "    \"\"\"\n",
    "    Preprocesses a sentence into list of tokens using the provided tokenizer\n",
    "    Then converts it into a list of token ids using the supplied 'token_to_id' dictionary.\n",
    "    Pads resulting list with NULL identifiers up to max_len length. \n",
    "    \"\"\"\n",
    "    # your code goes here\n",
    "    # STEP 1: convert sentence to a list of tokens\n",
    "    \n",
    "    # STEP 2: replace tokens with their identifiers from the vocabulary\n",
    "    # If the token is not present in the vocabulary, replace it with UNKN identifier\n",
    "\n",
    "    # STEP 3: pad the sequence id's with NULL identifiers until so that it's length is equal to max_len\n",
    "\n",
    "    return ids"
   ]
  },
  {
   "cell_type": "markdown",
   "metadata": {},
   "source": [
    "Now apply the vectorization function to every sentence from train and test datasets. In the end you should end up with a matrix of shape [len(data), MAX_LEN].\n",
    "\n",
    "Just write a little loop"
   ]
  },
  {
   "cell_type": "code",
   "execution_count": null,
   "metadata": {
    "collapsed": true
   },
   "outputs": [],
   "source": [
    "def vectorize_sentences(sentences, tokenizer, token_to_id, max_len):\n",
    "    sentence_ids = []\n",
    "    \n",
    "    # your code goes here\n",
    "        \n",
    "    return np.array(sentence_ids)"
   ]
  },
  {
   "cell_type": "code",
   "execution_count": null,
   "metadata": {
    "collapsed": true
   },
   "outputs": [],
   "source": []
  },
  {
   "cell_type": "code",
   "execution_count": null,
   "metadata": {
    "collapsed": true
   },
   "outputs": [],
   "source": []
  },
  {
   "cell_type": "code",
   "execution_count": null,
   "metadata": {
    "collapsed": true
   },
   "outputs": [],
   "source": [
    "train_vectorized = vectorize_sentences(train_texts, my_tokenizer, voc, MAX_LEN)\n",
    "test_vectorized = vectorize_sentences(test_texts, my_tokenizer, voc, MAX_LEN)"
   ]
  },
  {
   "cell_type": "code",
   "execution_count": null,
   "metadata": {
    "collapsed": true
   },
   "outputs": [],
   "source": []
  },
  {
   "cell_type": "code",
   "execution_count": null,
   "metadata": {
    "collapsed": true
   },
   "outputs": [],
   "source": [
    "assert isinstance(train_vectorized, np.ndarray)\n",
    "assert isinstance(test_vectorized, np.ndarray)\n",
    "\n",
    "assert train_vectorized.shape == (len(train_vectorized), MAX_LEN)\n",
    "assert test_vectorized.shape == (len(test_vectorized), MAX_LEN)\n",
    "\n",
    "print('done')"
   ]
  },
  {
   "cell_type": "markdown",
   "metadata": {},
   "source": [
    "### 3.4 Building a deep NN"
   ]
  },
  {
   "cell_type": "code",
   "execution_count": null,
   "metadata": {
    "collapsed": true
   },
   "outputs": [],
   "source": [
    "embeddings_matrix = w2v_model.syn0"
   ]
  },
  {
   "cell_type": "code",
   "execution_count": null,
   "metadata": {
    "collapsed": true
   },
   "outputs": [],
   "source": [
    "# keras Input layer is basically the same thing as tf.placeholder\n",
    "# it defines a node where the network will be expecting to recieve input data\n",
    "input_layer = keras.layers.Input(shape=(MAX_LEN,))"
   ]
  },
  {
   "cell_type": "code",
   "execution_count": null,
   "metadata": {
    "collapsed": true
   },
   "outputs": [],
   "source": [
    "# keras Embedding layer is a container for dense vectors\n",
    "# it recieves a list of token identifiers of shape [MAX_LEN] \n",
    "# and turns it into a matrix of shape [MAX_LEN, EMBEDDING_DIM]\n",
    "\n",
    "embedding_layer = keras.layers.Embedding(embeddings_matrix.shape[0], embeddings_matrix.shape[1], \n",
    "                                         input_length=MAX_LEN, weights=[embeddings_matrix],\n",
    "                                         trainable=False)(input_layer)\n",
    "# notice how the input_layer is plugged into the embedding_layer"
   ]
  },
  {
   "cell_type": "code",
   "execution_count": null,
   "metadata": {
    "collapsed": true
   },
   "outputs": [],
   "source": [
    "# keras Convolutional layer implements a set of learnable filters\n",
    "# that extract local patterns from input data\n",
    "convolution_layer = keras.layers.Convolution1D(128, 3)(embedding_layer)"
   ]
  },
  {
   "cell_type": "code",
   "execution_count": null,
   "metadata": {
    "collapsed": true
   },
   "outputs": [],
   "source": [
    "# keras GlobalMaxPooling layer applies a max filter to the input feature representation\n",
    "# only the strongest responses from the previous layer are kept, everything else is discarded\n",
    "subsampling_layer = keras.layers.GlobalMaxPooling1D()(convolution_layer)"
   ]
  },
  {
   "cell_type": "code",
   "execution_count": null,
   "metadata": {
    "collapsed": true
   },
   "outputs": [],
   "source": [
    "# keras Linear layers apply a simple linear transformation to input data, \n",
    "# which is optionally followed by a non-linear activation function\n",
    "# very useful for building Multi-Layer Perceptrons\n",
    "linear_layer_1 = keras.layers.Dense(64, activation='relu')(subsampling_layer)\n",
    "linear_layer_2 = keras.layers.Dense(1, activation='sigmoid')(linear_layer_1)"
   ]
  },
  {
   "cell_type": "code",
   "execution_count": null,
   "metadata": {
    "collapsed": true
   },
   "outputs": [],
   "source": [
    "# this compiles the computational graph we've just created, applies a loss function\n",
    "# and pre-computes the gradients for back propagation\n",
    "\n",
    "deep_model = keras.models.Model(inputs=[input_layer], outputs=[linear_layer_2])\n",
    "deep_model.compile(optimizer='adam', loss='binary_crossentropy', metrics=['accuracy'])"
   ]
  },
  {
   "cell_type": "code",
   "execution_count": null,
   "metadata": {
    "collapsed": true
   },
   "outputs": [],
   "source": [
    "deep_model.summary()"
   ]
  },
  {
   "cell_type": "code",
   "execution_count": null,
   "metadata": {
    "collapsed": true
   },
   "outputs": [],
   "source": [
    "deep_model.fit(x=train_vectorized, y=train_labels, batch_size=64, epochs=3, \n",
    "               validation_data=[test_vectorized, test_labels])"
   ]
  },
  {
   "cell_type": "code",
   "execution_count": null,
   "metadata": {
    "collapsed": true
   },
   "outputs": [],
   "source": [
    "preds = deep_model.predict(test_vectorized)"
   ]
  },
  {
   "cell_type": "code",
   "execution_count": null,
   "metadata": {
    "collapsed": true
   },
   "outputs": [],
   "source": [
    "print(\"AUC = {}\".format(roc_auc_score(test_labels, preds)))"
   ]
  },
  {
   "cell_type": "code",
   "execution_count": null,
   "metadata": {
    "collapsed": true
   },
   "outputs": [],
   "source": [
    "deep_model.save_weights(\"nn_weights.hdf5\")"
   ]
  },
  {
   "cell_type": "markdown",
   "metadata": {},
   "source": [
    "### Thats more like it! Keep in mind that we only trained a tiny model because of the limitations of CPU computing power. Using a deeper model with more trainable filters in the Convolution layer would likely result in even stronger predictive power. Stay tuned! "
   ]
  },
  {
   "cell_type": "code",
   "execution_count": null,
   "metadata": {
    "collapsed": true
   },
   "outputs": [],
   "source": []
  }
 ],
 "metadata": {
  "kernelspec": {
   "display_name": "Python 3",
   "language": "python",
   "name": "python3"
  },
  "language_info": {
   "codemirror_mode": {
    "name": "ipython",
    "version": 3
   },
   "file_extension": ".py",
   "mimetype": "text/x-python",
   "name": "python",
   "nbconvert_exporter": "python",
   "pygments_lexer": "ipython3",
   "version": "3.5.2"
  }
 },
 "nbformat": 4,
 "nbformat_minor": 2
}
