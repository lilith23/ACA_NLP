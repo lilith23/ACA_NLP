{
 "cells": [
  {
   "cell_type": "code",
   "execution_count": 1,
   "metadata": {
    "collapsed": true,
    "deletable": true,
    "editable": true
   },
   "outputs": [],
   "source": [
    "import telebot\n",
    "import requests"
   ]
  },
  {
   "cell_type": "code",
   "execution_count": null,
   "metadata": {
    "collapsed": true
   },
   "outputs": [],
   "source": [
    "token = 'your token'"
   ]
  },
  {
   "cell_type": "code",
   "execution_count": 30,
   "metadata": {
    "collapsed": false,
    "deletable": true,
    "editable": true
   },
   "outputs": [],
   "source": [
    "bot = telebot.TeleBot(token)\n",
    "\n",
    "# A helper to get rid of the /command\n",
    "def get_text(full_text):\n",
    "    text_parts = full_text.split()\n",
    "    return ' '.join(text_parts[1:])\n",
    "\n",
    "# Method to connect to the sentiment model\n",
    "def get_sentiment(text):\n",
    "    response = requests.post('http://text-processing.com/api/sentiment/',\n",
    "             data={'text':text})\n",
    "    response_data = response.json()\n",
    "    return response_data['label']\n",
    "\n",
    "# Sentiment command handler\n",
    "@bot.message_handler(commands=['sent'])\n",
    "def sentiment(message):\n",
    "    text = get_text(message.text)\n",
    "    text_sentiment = get_sentiment(text)\n",
    "    if text_sentiment == 'pos':\n",
    "        reply = 'Your text is positive'\n",
    "    elif text_sentiment == 'neg':\n",
    "        reply = 'Your text is negative'\n",
    "    else:\n",
    "        reply = 'Your text is neutral'\n",
    "    bot.send_message(message.chat.id, text=reply)\n",
    "\n",
    "# Any command handler\n",
    "@bot.message_handler()\n",
    "def say_hello(message):\n",
    "    print(message)\n",
    "    bot.send_message(message.chat.id, text='It works')\n",
    "\n",
    "bot.polling()"
   ]
  },
  {
   "cell_type": "markdown",
   "metadata": {},
   "source": [
    "# Example of saving a photo"
   ]
  },
  {
   "cell_type": "code",
   "execution_count": null,
   "metadata": {
    "collapsed": true
   },
   "outputs": [],
   "source": [
    "@bot.message_handler(content_types=['photo'])\n",
    "def photo_save(message):\n",
    "    # .photo contains a list of photo, the last one — the largest\n",
    "    file_id = message.photo[-1].file_id \n",
    "    file_info = bot.get_file(file_id)\n",
    "    print(file_info.file_path)\n",
    "    downloaded_file = bot.download_file(file_info.file_path)\n",
    "    # save the bytes of the photos to some location and use it as input to your model\n",
    "    with open(\"image.jpg\", 'wb') as new_file:\n",
    "        new_file.write(downloaded_file)"
   ]
  },
  {
   "cell_type": "code",
   "execution_count": 21,
   "metadata": {
    "collapsed": false,
    "deletable": true,
    "editable": true
   },
   "outputs": [],
   "source": [
    "# In Heroku, you should do it like this\n",
    "import os\n",
    "token = os.get_env('BOT_TOKEN')"
   ]
  }
 ],
 "metadata": {
  "kernelspec": {
   "display_name": "Python 3",
   "language": "python",
   "name": "python3"
  },
  "language_info": {
   "codemirror_mode": {
    "name": "ipython",
    "version": 3
   },
   "file_extension": ".py",
   "mimetype": "text/x-python",
   "name": "python",
   "nbconvert_exporter": "python",
   "pygments_lexer": "ipython3",
   "version": "3.5.2"
  }
 },
 "nbformat": 4,
 "nbformat_minor": 2
}
